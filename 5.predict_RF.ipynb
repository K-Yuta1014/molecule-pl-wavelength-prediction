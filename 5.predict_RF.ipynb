{
 "cells": [
  {
   "cell_type": "markdown",
   "id": "5cdb915d",
   "metadata": {},
   "source": [
    "# 新規材料の予測"
   ]
  },
  {
   "cell_type": "code",
   "execution_count": 5,
   "id": "ac49679e",
   "metadata": {},
   "outputs": [],
   "source": [
    "import matplotlib.pyplot as plt\n",
    "import seaborn as sns\n",
    "sns.set(style='whitegrid', font_scale=1.2)  # seabornスタイル適用\n",
    "import numpy as np\n",
    "import pandas as pd\n",
    "\n",
    "from sklearn.cross_decomposition import PLSRegression\n",
    "\n",
    "from sklearn.ensemble import RandomForestRegressor\n",
    "from sklearn.model_selection import train_test_split, KFold, cross_val_predict\n",
    "from sklearn.metrics import mean_squared_error, mean_absolute_error, r2_score\n",
    "from sklearn.preprocessing import StandardScaler\n",
    "\n",
    "import xgboost as xgb\n",
    "import lightgbm as lgb\n",
    "\n",
    "import optuna\n",
    "\n",
    "import torch\n",
    "import torch.nn as nn\n",
    "from torch.utils.data import Dataset, DataLoader\n",
    "\n",
    "import pickle\n",
    "\n",
    "from scipy.spatial.distance import cdist\n",
    "from sklearn.svm import OneClassSVM\n",
    "from sklearn.decomposition import PCA"
   ]
  },
  {
   "cell_type": "markdown",
   "id": "d33f184f",
   "metadata": {},
   "source": [
    "## データ読み込み＆前処理"
   ]
  },
  {
   "cell_type": "code",
   "execution_count": 6,
   "id": "24e43a7d",
   "metadata": {},
   "outputs": [
    {
     "name": "stdout",
     "output_type": "stream",
     "text": [
      "(233, 3) (233, 1826) (233, 1829)\n"
     ]
    }
   ],
   "source": [
    "# 入力：読み込みたい記述子のタイプを選択\n",
    "descriptor_type = 'mordred_3d'  # 'rdkit' or 'mordred_2d' or 'mordred_3d'\n",
    "\n",
    "# ベースのデータ\n",
    "dataset = pd.read_csv('material_data.csv', index_col=0)\n",
    "\n",
    "# 条件に応じて記述子ファイルを読み込む\n",
    "if descriptor_type == 'rdkit':\n",
    "    des = pd.read_csv('descriptor_rdkit.csv', index_col=0)\n",
    "elif descriptor_type == 'mordred_2d':\n",
    "    des = pd.read_csv('descriptor_mordred_2d.csv', index_col=0)\n",
    "elif descriptor_type == 'mordred_3d':\n",
    "    des = pd.read_csv('descriptor_mordred_3d.csv', index_col=0)\n",
    "else:\n",
    "    raise ValueError(f\"未知のdescriptor_type: {descriptor_type}\")\n",
    "\n",
    "# 結合\n",
    "dataset_full = pd.concat([dataset.reset_index(), des.reset_index(drop=True)], axis=1)\n",
    "dataset_full = dataset_full.set_index('Material')\n",
    "\n",
    "# 確認\n",
    "print(dataset.shape, des.shape, dataset_full.shape)"
   ]
  },
  {
   "cell_type": "code",
   "execution_count": 7,
   "id": "bd1a2963",
   "metadata": {},
   "outputs": [
    {
     "name": "stdout",
     "output_type": "stream",
     "text": [
      "学習データに基づいて削除する列の数: 604\n",
      "\n",
      "処理後のshape:\n",
      "(228, 1223) (5, 1222)\n",
      "✅ 列数が一致しました！ (学習データ: 目的変数分+1)\n"
     ]
    }
   ],
   "source": [
    "# TypeとSMILESも消す\n",
    "dataset_full = dataset_full.drop(['SMILES', 'Type'], axis=1)\n",
    "\n",
    "# 学習用と予測用に分ける\n",
    "dataset_train = dataset_full.dropna(subset=['PL']).copy()\n",
    "dataset_test = dataset_full[dataset_full['PL'].isnull()].copy()\n",
    "\n",
    "# 予測データのPLは空なので消す\n",
    "dataset_test = dataset_test.drop('PL', axis=1)\n",
    "\n",
    "# 1. 両方のデータセットでinfをNaNに置き換える\n",
    "dataset_train.replace([np.inf, -np.inf], np.nan, inplace=True)\n",
    "dataset_test.replace([np.inf, -np.inf], np.nan, inplace=True)\n",
    "\n",
    "# 2. 学習データに基づいて削除すべき列を特定する\n",
    "#    - NaNを含む列\n",
    "nan_cols = dataset_train.columns[dataset_train.isnull().any()]\n",
    "#    - 標準偏差が0の列\n",
    "zero_std_cols = dataset_train.columns[dataset_train.std() == 0]\n",
    "\n",
    "#    - 削除する列の全リスト (重複をなくす)\n",
    "cols_to_drop = nan_cols.union(zero_std_cols)\n",
    "print(f\"学習データに基づいて削除する列の数: {len(cols_to_drop)}\")\n",
    "\n",
    "\n",
    "# 3. 特定した同じ列を「両方のデータセット」から削除する\n",
    "dataset_train.drop(columns=cols_to_drop, inplace=True)\n",
    "dataset_test.drop(columns=cols_to_drop, inplace=True, errors='ignore') # テストデータにその列がなくてもエラーにしない\n",
    "\n",
    "# 4. テストデータに残っているNaNを「学習データの平均値」で埋める\n",
    "#    まず、学習データから各列の平均値を計算します。\n",
    "imputation_values = dataset_train.drop('PL', axis=1).mean()\n",
    "\n",
    "#    計算した平均値を使ってテストデータの欠損値を埋めます。\n",
    "dataset_test.fillna(imputation_values, inplace=True)\n",
    "\n",
    "print(\"\\n処理後のshape:\")\n",
    "print(dataset_train.shape, dataset_test.shape)\n",
    "\n",
    "# 列数が一致していることを確認\n",
    "if dataset_train.shape[1] - 1 == dataset_test.shape[1]:\n",
    "    print(\"✅ 列数が一致しました！ (学習データ: 目的変数分+1)\")\n",
    "else:\n",
    "    print(\"❌ 列数が一致していません。\")"
   ]
  },
  {
   "cell_type": "code",
   "execution_count": 8,
   "id": "c227695a",
   "metadata": {},
   "outputs": [],
   "source": [
    "# 最終的な特徴量共通セット\n",
    "X_train_all = dataset_train.drop(columns='PL')\n",
    "y_train_all = dataset_train['PL']\n",
    "X_test = dataset_test  # PLなし"
   ]
  },
  {
   "cell_type": "markdown",
   "id": "e2d8ed55",
   "metadata": {},
   "source": [
    "## RandomForest"
   ]
  },
  {
   "cell_type": "code",
   "execution_count": 9,
   "id": "4fa74ec2",
   "metadata": {},
   "outputs": [],
   "source": [
    "def objective_rf(trial):\n",
    "    # 検証するパラメータ\n",
    "    params = {\n",
    "    \"n_estimators\" : trial.suggest_int('n_estimators', 50, 500),\n",
    "    \"max_depth\" : trial.suggest_int('max_depth', 3, 20),\n",
    "    \"min_samples_split\" : trial.suggest_int('min_samples_split', 2, 10),\n",
    "    \"min_samples_leaf\" : trial.suggest_int('min_samples_leaf', 1, 10),\n",
    "    \"max_features\" : trial.suggest_categorical('max_features', ['sqrt', 'log2', None]),\n",
    "    'random_state' : 1234,  # 再現性のため\n",
    "    'n_jobs' : -1\n",
    "    }\n",
    "\n",
    "    # モデル定義\n",
    "    model_rf = RandomForestRegressor(**params)\n",
    "\n",
    "    # 分割、CV\n",
    "    kf = KFold(n_splits=5, shuffle=True, random_state=1234)\n",
    "\n",
    "    # 評価指標\n",
    "    rmse_scores = []\n",
    "    mae_scores = []\n",
    "    r2_scores = []\n",
    "\n",
    "    for train_index, val_index in kf.split(X_train_all):\n",
    "        # 訓練と検証に分類\n",
    "        X_train, X_val = X_train_all.iloc[train_index, :], X_train_all.iloc[val_index, :]\n",
    "        y_train, y_val = y_train_all.iloc[train_index], y_train_all.iloc[val_index]\n",
    "\n",
    "        # 標準化、DataFrameに戻す\n",
    "        std = StandardScaler()\n",
    "        autoscaled_X_train = pd.DataFrame(std.fit_transform(X_train), columns=X_train.columns, index=X_train.index)\n",
    "        autoscaled_X_val = pd.DataFrame(std.transform(X_val), columns=X_val.columns, index=X_val.index)\n",
    "\n",
    "        # 学習\n",
    "        model_rf.fit(autoscaled_X_train, y_train)\n",
    "        y_pred = model_rf.predict(autoscaled_X_val)\n",
    "\n",
    "        # 性能チェック\n",
    "        rmse = np.sqrt(mean_squared_error(y_val, y_pred))\n",
    "        mae = mean_absolute_error(y_val, y_pred)\n",
    "        r2 = r2_score(y_val, y_pred)\n",
    "\n",
    "        # 結果格納\n",
    "        rmse_scores.append(rmse)\n",
    "        mae_scores.append(mae)\n",
    "        r2_scores.append(r2)\n",
    "\n",
    "    return np.mean(r2_scores)  # 最適化したい評価指標を選ぶ\n",
    "\n"
   ]
  },
  {
   "cell_type": "code",
   "execution_count": 10,
   "id": "67cb8eba",
   "metadata": {},
   "outputs": [
    {
     "name": "stderr",
     "output_type": "stream",
     "text": [
      "[I 2025-07-13 20:22:06,826] A new study created in memory with name: regression\n",
      "[I 2025-07-13 20:22:10,163] Trial 0 finished with value: 0.7439740538151047 and parameters: {'n_estimators': 97, 'max_depth': 18, 'min_samples_split': 10, 'min_samples_leaf': 2, 'max_features': None}. Best is trial 0 with value: 0.7439740538151047.\n",
      "[I 2025-07-13 20:22:12,051] Trial 1 finished with value: 0.7145731764050323 and parameters: {'n_estimators': 141, 'max_depth': 15, 'min_samples_split': 6, 'min_samples_leaf': 7, 'max_features': 'sqrt'}. Best is trial 0 with value: 0.7439740538151047.\n",
      "[I 2025-07-13 20:22:15,517] Trial 2 finished with value: 0.724198679025448 and parameters: {'n_estimators': 247, 'max_depth': 17, 'min_samples_split': 8, 'min_samples_leaf': 6, 'max_features': 'sqrt'}. Best is trial 0 with value: 0.7439740538151047.\n",
      "[I 2025-07-13 20:22:18,339] Trial 3 finished with value: 0.7260933736583729 and parameters: {'n_estimators': 199, 'max_depth': 10, 'min_samples_split': 8, 'min_samples_leaf': 6, 'max_features': 'sqrt'}. Best is trial 0 with value: 0.7439740538151047.\n",
      "[I 2025-07-13 20:22:25,195] Trial 4 finished with value: 0.6806011365017157 and parameters: {'n_estimators': 497, 'max_depth': 4, 'min_samples_split': 5, 'min_samples_leaf': 4, 'max_features': 'log2'}. Best is trial 0 with value: 0.7439740538151047.\n",
      "[I 2025-07-13 20:22:38,070] Trial 5 finished with value: 0.7570136826664448 and parameters: {'n_estimators': 372, 'max_depth': 7, 'min_samples_split': 2, 'min_samples_leaf': 3, 'max_features': None}. Best is trial 5 with value: 0.7570136826664448.\n",
      "[I 2025-07-13 20:22:39,371] Trial 6 finished with value: 0.7318301651167203 and parameters: {'n_estimators': 72, 'max_depth': 19, 'min_samples_split': 8, 'min_samples_leaf': 2, 'max_features': 'log2'}. Best is trial 5 with value: 0.7570136826664448.\n",
      "[I 2025-07-13 20:22:45,971] Trial 7 finished with value: 0.7580525291389069 and parameters: {'n_estimators': 488, 'max_depth': 16, 'min_samples_split': 5, 'min_samples_leaf': 3, 'max_features': 'sqrt'}. Best is trial 7 with value: 0.7580525291389069.\n",
      "[I 2025-07-13 20:22:55,928] Trial 8 finished with value: 0.7411093280704846 and parameters: {'n_estimators': 416, 'max_depth': 14, 'min_samples_split': 3, 'min_samples_leaf': 7, 'max_features': None}. Best is trial 7 with value: 0.7580525291389069.\n",
      "[I 2025-07-13 20:22:59,524] Trial 9 finished with value: 0.64974647326757 and parameters: {'n_estimators': 254, 'max_depth': 3, 'min_samples_split': 5, 'min_samples_leaf': 2, 'max_features': 'log2'}. Best is trial 7 with value: 0.7580525291389069.\n",
      "[I 2025-07-13 20:23:05,328] Trial 10 finished with value: 0.6932598668224423 and parameters: {'n_estimators': 356, 'max_depth': 11, 'min_samples_split': 4, 'min_samples_leaf': 9, 'max_features': 'sqrt'}. Best is trial 7 with value: 0.7580525291389069.\n",
      "[I 2025-07-13 20:23:17,620] Trial 11 finished with value: 0.7549025423660892 and parameters: {'n_estimators': 396, 'max_depth': 9, 'min_samples_split': 2, 'min_samples_leaf': 4, 'max_features': None}. Best is trial 7 with value: 0.7580525291389069.\n",
      "[I 2025-07-13 20:23:33,260] Trial 12 finished with value: 0.7562538478342559 and parameters: {'n_estimators': 494, 'max_depth': 7, 'min_samples_split': 2, 'min_samples_leaf': 4, 'max_features': None}. Best is trial 7 with value: 0.7580525291389069.\n",
      "[I 2025-07-13 20:23:38,329] Trial 13 finished with value: 0.76159085033934 and parameters: {'n_estimators': 337, 'max_depth': 7, 'min_samples_split': 4, 'min_samples_leaf': 1, 'max_features': 'sqrt'}. Best is trial 13 with value: 0.76159085033934.\n",
      "[I 2025-07-13 20:23:43,096] Trial 14 finished with value: 0.7649073069579223 and parameters: {'n_estimators': 322, 'max_depth': 14, 'min_samples_split': 4, 'min_samples_leaf': 1, 'max_features': 'sqrt'}. Best is trial 14 with value: 0.7649073069579223.\n",
      "[I 2025-07-13 20:23:47,558] Trial 15 finished with value: 0.7663290320329663 and parameters: {'n_estimators': 312, 'max_depth': 13, 'min_samples_split': 4, 'min_samples_leaf': 1, 'max_features': 'sqrt'}. Best is trial 15 with value: 0.7663290320329663.\n",
      "[I 2025-07-13 20:23:51,614] Trial 16 finished with value: 0.7656377868706709 and parameters: {'n_estimators': 307, 'max_depth': 13, 'min_samples_split': 4, 'min_samples_leaf': 1, 'max_features': 'sqrt'}. Best is trial 15 with value: 0.7663290320329663.\n",
      "[I 2025-07-13 20:23:55,823] Trial 17 finished with value: 0.6834906222286246 and parameters: {'n_estimators': 296, 'max_depth': 13, 'min_samples_split': 7, 'min_samples_leaf': 10, 'max_features': 'sqrt'}. Best is trial 15 with value: 0.7663290320329663.\n",
      "[I 2025-07-13 20:23:58,591] Trial 18 finished with value: 0.7645939218781169 and parameters: {'n_estimators': 189, 'max_depth': 12, 'min_samples_split': 3, 'min_samples_leaf': 1, 'max_features': 'sqrt'}. Best is trial 15 with value: 0.7663290320329663.\n",
      "[I 2025-07-13 20:24:05,288] Trial 19 finished with value: 0.7386679798572381 and parameters: {'n_estimators': 434, 'max_depth': 9, 'min_samples_split': 6, 'min_samples_leaf': 5, 'max_features': 'sqrt'}. Best is trial 15 with value: 0.7663290320329663.\n",
      "[I 2025-07-13 20:24:08,317] Trial 20 finished with value: 0.728385066255061 and parameters: {'n_estimators': 216, 'max_depth': 20, 'min_samples_split': 3, 'min_samples_leaf': 3, 'max_features': 'log2'}. Best is trial 15 with value: 0.7663290320329663.\n",
      "[I 2025-07-13 20:24:12,676] Trial 21 finished with value: 0.7646935364535715 and parameters: {'n_estimators': 312, 'max_depth': 14, 'min_samples_split': 4, 'min_samples_leaf': 1, 'max_features': 'sqrt'}. Best is trial 15 with value: 0.7663290320329663.\n",
      "[I 2025-07-13 20:24:16,884] Trial 22 finished with value: 0.7635898831679608 and parameters: {'n_estimators': 289, 'max_depth': 12, 'min_samples_split': 4, 'min_samples_leaf': 1, 'max_features': 'sqrt'}. Best is trial 15 with value: 0.7663290320329663.\n",
      "[I 2025-07-13 20:24:21,278] Trial 23 finished with value: 0.7621357649602161 and parameters: {'n_estimators': 318, 'max_depth': 16, 'min_samples_split': 6, 'min_samples_leaf': 2, 'max_features': 'sqrt'}. Best is trial 15 with value: 0.7663290320329663.\n",
      "[I 2025-07-13 20:24:25,155] Trial 24 finished with value: 0.764891138706984 and parameters: {'n_estimators': 267, 'max_depth': 14, 'min_samples_split': 3, 'min_samples_leaf': 1, 'max_features': 'sqrt'}. Best is trial 15 with value: 0.7663290320329663.\n",
      "[I 2025-07-13 20:24:30,208] Trial 25 finished with value: 0.7624208970304464 and parameters: {'n_estimators': 376, 'max_depth': 11, 'min_samples_split': 5, 'min_samples_leaf': 2, 'max_features': 'sqrt'}. Best is trial 15 with value: 0.7663290320329663.\n",
      "[I 2025-07-13 20:24:38,726] Trial 26 finished with value: 0.7578817879333691 and parameters: {'n_estimators': 445, 'max_depth': 13, 'min_samples_split': 4, 'min_samples_leaf': 3, 'max_features': 'sqrt'}. Best is trial 15 with value: 0.7663290320329663.\n",
      "[I 2025-07-13 20:24:44,742] Trial 27 finished with value: 0.7632734073971486 and parameters: {'n_estimators': 229, 'max_depth': 16, 'min_samples_split': 3, 'min_samples_leaf': 1, 'max_features': 'sqrt'}. Best is trial 15 with value: 0.7663290320329663.\n",
      "[I 2025-07-13 20:24:51,059] Trial 28 finished with value: 0.6906560211072714 and parameters: {'n_estimators': 338, 'max_depth': 13, 'min_samples_split': 5, 'min_samples_leaf': 5, 'max_features': 'log2'}. Best is trial 15 with value: 0.7663290320329663.\n",
      "[I 2025-07-13 20:24:55,216] Trial 29 finished with value: 0.7563631953282834 and parameters: {'n_estimators': 143, 'max_depth': 18, 'min_samples_split': 10, 'min_samples_leaf': 2, 'max_features': 'sqrt'}. Best is trial 15 with value: 0.7663290320329663.\n",
      "[I 2025-07-13 20:25:10,120] Trial 30 finished with value: 0.7342657828553987 and parameters: {'n_estimators': 286, 'max_depth': 9, 'min_samples_split': 6, 'min_samples_leaf': 8, 'max_features': None}. Best is trial 15 with value: 0.7663290320329663.\n",
      "[I 2025-07-13 20:25:17,695] Trial 31 finished with value: 0.7648789332576644 and parameters: {'n_estimators': 263, 'max_depth': 14, 'min_samples_split': 3, 'min_samples_leaf': 1, 'max_features': 'sqrt'}. Best is trial 15 with value: 0.7663290320329663.\n",
      "[I 2025-07-13 20:25:22,388] Trial 32 finished with value: 0.7672009276603268 and parameters: {'n_estimators': 156, 'max_depth': 15, 'min_samples_split': 4, 'min_samples_leaf': 1, 'max_features': 'sqrt'}. Best is trial 32 with value: 0.7672009276603268.\n",
      "[I 2025-07-13 20:25:27,169] Trial 33 finished with value: 0.7696896662943171 and parameters: {'n_estimators': 153, 'max_depth': 15, 'min_samples_split': 4, 'min_samples_leaf': 2, 'max_features': 'sqrt'}. Best is trial 33 with value: 0.7696896662943171.\n",
      "[I 2025-07-13 20:25:31,818] Trial 34 finished with value: 0.7530346636347047 and parameters: {'n_estimators': 145, 'max_depth': 17, 'min_samples_split': 7, 'min_samples_leaf': 2, 'max_features': 'sqrt'}. Best is trial 33 with value: 0.7696896662943171.\n",
      "[I 2025-07-13 20:25:36,591] Trial 35 finished with value: 0.7613648613265441 and parameters: {'n_estimators': 114, 'max_depth': 17, 'min_samples_split': 5, 'min_samples_leaf': 3, 'max_features': 'sqrt'}. Best is trial 33 with value: 0.7696896662943171.\n",
      "[I 2025-07-13 20:25:42,253] Trial 36 finished with value: 0.7678772780520767 and parameters: {'n_estimators': 195, 'max_depth': 15, 'min_samples_split': 4, 'min_samples_leaf': 2, 'max_features': 'sqrt'}. Best is trial 33 with value: 0.7696896662943171.\n",
      "[I 2025-07-13 20:25:46,980] Trial 37 finished with value: 0.7459283970801975 and parameters: {'n_estimators': 172, 'max_depth': 15, 'min_samples_split': 10, 'min_samples_leaf': 4, 'max_features': 'sqrt'}. Best is trial 33 with value: 0.7696896662943171.\n",
      "[I 2025-07-13 20:25:49,961] Trial 38 finished with value: 0.7764330995678186 and parameters: {'n_estimators': 59, 'max_depth': 18, 'min_samples_split': 2, 'min_samples_leaf': 2, 'max_features': 'sqrt'}. Best is trial 38 with value: 0.7764330995678186.\n",
      "[I 2025-07-13 20:25:52,723] Trial 39 finished with value: 0.7261639235256474 and parameters: {'n_estimators': 51, 'max_depth': 19, 'min_samples_split': 2, 'min_samples_leaf': 3, 'max_features': 'log2'}. Best is trial 38 with value: 0.7764330995678186.\n",
      "[I 2025-07-13 20:26:00,750] Trial 40 finished with value: 0.7501533268242824 and parameters: {'n_estimators': 101, 'max_depth': 18, 'min_samples_split': 2, 'min_samples_leaf': 2, 'max_features': None}. Best is trial 38 with value: 0.7764330995678186.\n",
      "[I 2025-07-13 20:26:04,930] Trial 41 finished with value: 0.767669762197154 and parameters: {'n_estimators': 163, 'max_depth': 15, 'min_samples_split': 3, 'min_samples_leaf': 2, 'max_features': 'sqrt'}. Best is trial 38 with value: 0.7764330995678186.\n",
      "[I 2025-07-13 20:26:10,552] Trial 42 finished with value: 0.7679959035926398 and parameters: {'n_estimators': 168, 'max_depth': 15, 'min_samples_split': 3, 'min_samples_leaf': 2, 'max_features': 'sqrt'}. Best is trial 38 with value: 0.7764330995678186.\n",
      "[I 2025-07-13 20:26:14,560] Trial 43 finished with value: 0.7703263422014011 and parameters: {'n_estimators': 115, 'max_depth': 16, 'min_samples_split': 2, 'min_samples_leaf': 2, 'max_features': 'sqrt'}. Best is trial 38 with value: 0.7764330995678186.\n",
      "[I 2025-07-13 20:26:18,105] Trial 44 finished with value: 0.7649003277209998 and parameters: {'n_estimators': 77, 'max_depth': 19, 'min_samples_split': 2, 'min_samples_leaf': 3, 'max_features': 'sqrt'}. Best is trial 38 with value: 0.7764330995678186.\n",
      "[I 2025-07-13 20:26:22,313] Trial 45 finished with value: 0.7598026720496689 and parameters: {'n_estimators': 125, 'max_depth': 17, 'min_samples_split': 2, 'min_samples_leaf': 3, 'max_features': 'sqrt'}. Best is trial 38 with value: 0.7764330995678186.\n",
      "[I 2025-07-13 20:26:25,731] Trial 46 finished with value: 0.7503206032832975 and parameters: {'n_estimators': 87, 'max_depth': 18, 'min_samples_split': 3, 'min_samples_leaf': 4, 'max_features': 'sqrt'}. Best is trial 38 with value: 0.7764330995678186.\n",
      "[I 2025-07-13 20:26:28,601] Trial 47 finished with value: 0.7293026420001174 and parameters: {'n_estimators': 53, 'max_depth': 16, 'min_samples_split': 2, 'min_samples_leaf': 2, 'max_features': 'log2'}. Best is trial 38 with value: 0.7764330995678186.\n",
      "[I 2025-07-13 20:26:35,910] Trial 48 finished with value: 0.7308692413856559 and parameters: {'n_estimators': 118, 'max_depth': 20, 'min_samples_split': 2, 'min_samples_leaf': 7, 'max_features': None}. Best is trial 38 with value: 0.7764330995678186.\n",
      "[I 2025-07-13 20:26:41,649] Trial 49 finished with value: 0.7256900283940229 and parameters: {'n_estimators': 191, 'max_depth': 15, 'min_samples_split': 3, 'min_samples_leaf': 6, 'max_features': 'sqrt'}. Best is trial 38 with value: 0.7764330995678186.\n",
      "[I 2025-07-13 20:26:47,300] Trial 50 finished with value: 0.7381961125408857 and parameters: {'n_estimators': 231, 'max_depth': 16, 'min_samples_split': 3, 'min_samples_leaf': 5, 'max_features': 'sqrt'}. Best is trial 38 with value: 0.7764330995678186.\n",
      "[I 2025-07-13 20:26:52,200] Trial 51 finished with value: 0.7682270074534332 and parameters: {'n_estimators': 169, 'max_depth': 15, 'min_samples_split': 3, 'min_samples_leaf': 2, 'max_features': 'sqrt'}. Best is trial 38 with value: 0.7764330995678186.\n",
      "[I 2025-07-13 20:26:57,460] Trial 52 finished with value: 0.768747036660699 and parameters: {'n_estimators': 182, 'max_depth': 17, 'min_samples_split': 2, 'min_samples_leaf': 2, 'max_features': 'sqrt'}. Best is trial 38 with value: 0.7764330995678186.\n",
      "[I 2025-07-13 20:27:02,196] Trial 53 finished with value: 0.7554648519671459 and parameters: {'n_estimators': 179, 'max_depth': 17, 'min_samples_split': 2, 'min_samples_leaf': 3, 'max_features': 'sqrt'}. Best is trial 38 with value: 0.7764330995678186.\n",
      "[I 2025-07-13 20:27:06,037] Trial 54 finished with value: 0.7754072621030759 and parameters: {'n_estimators': 97, 'max_depth': 19, 'min_samples_split': 2, 'min_samples_leaf': 2, 'max_features': 'sqrt'}. Best is trial 38 with value: 0.7764330995678186.\n",
      "[I 2025-07-13 20:27:10,542] Trial 55 finished with value: 0.74891875888576 and parameters: {'n_estimators': 97, 'max_depth': 18, 'min_samples_split': 2, 'min_samples_leaf': 4, 'max_features': 'sqrt'}. Best is trial 38 with value: 0.7764330995678186.\n",
      "[I 2025-07-13 20:27:14,980] Trial 56 finished with value: 0.7579522843154431 and parameters: {'n_estimators': 132, 'max_depth': 20, 'min_samples_split': 2, 'min_samples_leaf': 3, 'max_features': 'sqrt'}. Best is trial 38 with value: 0.7764330995678186.\n",
      "[I 2025-07-13 20:27:18,180] Trial 57 finished with value: 0.7811937927437944 and parameters: {'n_estimators': 76, 'max_depth': 19, 'min_samples_split': 2, 'min_samples_leaf': 2, 'max_features': 'sqrt'}. Best is trial 57 with value: 0.7811937927437944.\n",
      "[I 2025-07-13 20:27:24,359] Trial 58 finished with value: 0.7462101302610772 and parameters: {'n_estimators': 66, 'max_depth': 19, 'min_samples_split': 2, 'min_samples_leaf': 2, 'max_features': None}. Best is trial 57 with value: 0.7811937927437944.\n",
      "[I 2025-07-13 20:27:28,245] Trial 59 finished with value: 0.7486734154996675 and parameters: {'n_estimators': 103, 'max_depth': 19, 'min_samples_split': 2, 'min_samples_leaf': 4, 'max_features': 'sqrt'}. Best is trial 57 with value: 0.7811937927437944.\n",
      "[I 2025-07-13 20:27:31,489] Trial 60 finished with value: 0.7359971396252938 and parameters: {'n_estimators': 80, 'max_depth': 18, 'min_samples_split': 2, 'min_samples_leaf': 3, 'max_features': 'log2'}. Best is trial 57 with value: 0.7811937927437944.\n",
      "[I 2025-07-13 20:27:34,969] Trial 61 finished with value: 0.7825909504932592 and parameters: {'n_estimators': 67, 'max_depth': 17, 'min_samples_split': 3, 'min_samples_leaf': 2, 'max_features': 'sqrt'}. Best is trial 61 with value: 0.7825909504932592.\n",
      "[I 2025-07-13 20:27:38,299] Trial 62 finished with value: 0.7787028780208003 and parameters: {'n_estimators': 64, 'max_depth': 19, 'min_samples_split': 2, 'min_samples_leaf': 2, 'max_features': 'sqrt'}. Best is trial 61 with value: 0.7825909504932592.\n",
      "[I 2025-07-13 20:27:42,354] Trial 63 finished with value: 0.7723715527984909 and parameters: {'n_estimators': 65, 'max_depth': 19, 'min_samples_split': 3, 'min_samples_leaf': 1, 'max_features': 'sqrt'}. Best is trial 61 with value: 0.7825909504932592.\n",
      "[I 2025-07-13 20:27:45,456] Trial 64 finished with value: 0.7723220375721265 and parameters: {'n_estimators': 64, 'max_depth': 20, 'min_samples_split': 3, 'min_samples_leaf': 1, 'max_features': 'sqrt'}. Best is trial 61 with value: 0.7825909504932592.\n",
      "[I 2025-07-13 20:27:49,306] Trial 65 finished with value: 0.7741017189781071 and parameters: {'n_estimators': 67, 'max_depth': 20, 'min_samples_split': 3, 'min_samples_leaf': 1, 'max_features': 'sqrt'}. Best is trial 61 with value: 0.7825909504932592.\n",
      "[I 2025-07-13 20:27:53,064] Trial 66 finished with value: 0.7716221270845414 and parameters: {'n_estimators': 63, 'max_depth': 20, 'min_samples_split': 3, 'min_samples_leaf': 1, 'max_features': 'sqrt'}. Best is trial 61 with value: 0.7825909504932592.\n",
      "[I 2025-07-13 20:27:57,065] Trial 67 finished with value: 0.7667461846172421 and parameters: {'n_estimators': 88, 'max_depth': 19, 'min_samples_split': 3, 'min_samples_leaf': 1, 'max_features': 'sqrt'}. Best is trial 61 with value: 0.7825909504932592.\n",
      "[I 2025-07-13 20:28:00,937] Trial 68 finished with value: 0.7833216586067767 and parameters: {'n_estimators': 74, 'max_depth': 19, 'min_samples_split': 2, 'min_samples_leaf': 1, 'max_features': 'sqrt'}. Best is trial 68 with value: 0.7833216586067767.\n",
      "[I 2025-07-13 20:28:04,565] Trial 69 finished with value: 0.756633163157012 and parameters: {'n_estimators': 86, 'max_depth': 18, 'min_samples_split': 9, 'min_samples_leaf': 1, 'max_features': 'sqrt'}. Best is trial 68 with value: 0.7833216586067767.\n",
      "[I 2025-07-13 20:28:08,132] Trial 70 finished with value: 0.6903920588933034 and parameters: {'n_estimators': 96, 'max_depth': 20, 'min_samples_split': 2, 'min_samples_leaf': 10, 'max_features': 'sqrt'}. Best is trial 68 with value: 0.7833216586067767.\n",
      "[I 2025-07-13 20:28:12,174] Trial 71 finished with value: 0.7882344379175282 and parameters: {'n_estimators': 50, 'max_depth': 19, 'min_samples_split': 2, 'min_samples_leaf': 1, 'max_features': 'sqrt'}. Best is trial 71 with value: 0.7882344379175282.\n",
      "[I 2025-07-13 20:28:15,314] Trial 72 finished with value: 0.7882344379175283 and parameters: {'n_estimators': 50, 'max_depth': 19, 'min_samples_split': 2, 'min_samples_leaf': 1, 'max_features': 'sqrt'}. Best is trial 72 with value: 0.7882344379175283.\n",
      "[I 2025-07-13 20:28:18,385] Trial 73 finished with value: 0.7879374914302664 and parameters: {'n_estimators': 51, 'max_depth': 19, 'min_samples_split': 2, 'min_samples_leaf': 1, 'max_features': 'sqrt'}. Best is trial 72 with value: 0.7882344379175283.\n",
      "[I 2025-07-13 20:28:21,540] Trial 74 finished with value: 0.789043642422008 and parameters: {'n_estimators': 50, 'max_depth': 18, 'min_samples_split': 2, 'min_samples_leaf': 1, 'max_features': 'sqrt'}. Best is trial 74 with value: 0.789043642422008.\n",
      "[I 2025-07-13 20:28:24,936] Trial 75 finished with value: 0.7496110421906679 and parameters: {'n_estimators': 50, 'max_depth': 5, 'min_samples_split': 2, 'min_samples_leaf': 1, 'max_features': 'sqrt'}. Best is trial 74 with value: 0.789043642422008.\n",
      "[I 2025-07-13 20:28:28,664] Trial 76 finished with value: 0.7820095237525039 and parameters: {'n_estimators': 75, 'max_depth': 19, 'min_samples_split': 2, 'min_samples_leaf': 1, 'max_features': 'sqrt'}. Best is trial 74 with value: 0.789043642422008.\n",
      "[I 2025-07-13 20:28:32,066] Trial 77 finished with value: 0.7533399637184308 and parameters: {'n_estimators': 74, 'max_depth': 19, 'min_samples_split': 2, 'min_samples_leaf': 1, 'max_features': 'log2'}. Best is trial 74 with value: 0.789043642422008.\n",
      "[I 2025-07-13 20:28:41,469] Trial 78 finished with value: 0.74559757215509 and parameters: {'n_estimators': 109, 'max_depth': 17, 'min_samples_split': 7, 'min_samples_leaf': 1, 'max_features': None}. Best is trial 74 with value: 0.789043642422008.\n",
      "[I 2025-07-13 20:28:45,686] Trial 79 finished with value: 0.7818321657305974 and parameters: {'n_estimators': 76, 'max_depth': 18, 'min_samples_split': 2, 'min_samples_leaf': 1, 'max_features': 'sqrt'}. Best is trial 74 with value: 0.789043642422008.\n",
      "[I 2025-07-13 20:28:50,516] Trial 80 finished with value: 0.7738547322655822 and parameters: {'n_estimators': 134, 'max_depth': 18, 'min_samples_split': 2, 'min_samples_leaf': 1, 'max_features': 'sqrt'}. Best is trial 74 with value: 0.789043642422008.\n",
      "[I 2025-07-13 20:28:54,281] Trial 81 finished with value: 0.7819820528793618 and parameters: {'n_estimators': 75, 'max_depth': 20, 'min_samples_split': 2, 'min_samples_leaf': 1, 'max_features': 'sqrt'}. Best is trial 74 with value: 0.789043642422008.\n",
      "[I 2025-07-13 20:28:57,565] Trial 82 finished with value: 0.7876875489943707 and parameters: {'n_estimators': 52, 'max_depth': 20, 'min_samples_split': 2, 'min_samples_leaf': 1, 'max_features': 'sqrt'}. Best is trial 74 with value: 0.789043642422008.\n",
      "[I 2025-07-13 20:29:01,059] Trial 83 finished with value: 0.7773451025063454 and parameters: {'n_estimators': 88, 'max_depth': 20, 'min_samples_split': 2, 'min_samples_leaf': 1, 'max_features': 'sqrt'}. Best is trial 74 with value: 0.789043642422008.\n",
      "[I 2025-07-13 20:29:04,038] Trial 84 finished with value: 0.7701155036856309 and parameters: {'n_estimators': 54, 'max_depth': 20, 'min_samples_split': 3, 'min_samples_leaf': 1, 'max_features': 'sqrt'}. Best is trial 74 with value: 0.789043642422008.\n",
      "[I 2025-07-13 20:29:07,016] Trial 85 finished with value: 0.7878391694158331 and parameters: {'n_estimators': 54, 'max_depth': 20, 'min_samples_split': 2, 'min_samples_leaf': 1, 'max_features': 'sqrt'}. Best is trial 74 with value: 0.789043642422008.\n",
      "[I 2025-07-13 20:29:10,279] Trial 86 finished with value: 0.7879374914302664 and parameters: {'n_estimators': 51, 'max_depth': 19, 'min_samples_split': 2, 'min_samples_leaf': 1, 'max_features': 'sqrt'}. Best is trial 74 with value: 0.789043642422008.\n",
      "[I 2025-07-13 20:29:14,091] Trial 87 finished with value: 0.6894347177029065 and parameters: {'n_estimators': 61, 'max_depth': 18, 'min_samples_split': 3, 'min_samples_leaf': 9, 'max_features': 'sqrt'}. Best is trial 74 with value: 0.789043642422008.\n",
      "[I 2025-07-13 20:29:17,020] Trial 88 finished with value: 0.7876875489943708 and parameters: {'n_estimators': 52, 'max_depth': 20, 'min_samples_split': 2, 'min_samples_leaf': 1, 'max_features': 'sqrt'}. Best is trial 74 with value: 0.789043642422008.\n",
      "[I 2025-07-13 20:29:20,038] Trial 89 finished with value: 0.7877718206997301 and parameters: {'n_estimators': 55, 'max_depth': 20, 'min_samples_split': 2, 'min_samples_leaf': 1, 'max_features': 'sqrt'}. Best is trial 74 with value: 0.789043642422008.\n",
      "[I 2025-07-13 20:29:23,179] Trial 90 finished with value: 0.7874217446341184 and parameters: {'n_estimators': 53, 'max_depth': 20, 'min_samples_split': 2, 'min_samples_leaf': 1, 'max_features': 'sqrt'}. Best is trial 74 with value: 0.789043642422008.\n",
      "[I 2025-07-13 20:29:26,299] Trial 91 finished with value: 0.7881795683834967 and parameters: {'n_estimators': 50, 'max_depth': 20, 'min_samples_split': 2, 'min_samples_leaf': 1, 'max_features': 'sqrt'}. Best is trial 74 with value: 0.789043642422008.\n",
      "[I 2025-07-13 20:29:29,200] Trial 92 finished with value: 0.7881795683834967 and parameters: {'n_estimators': 50, 'max_depth': 20, 'min_samples_split': 2, 'min_samples_leaf': 1, 'max_features': 'sqrt'}. Best is trial 74 with value: 0.789043642422008.\n",
      "[I 2025-07-13 20:29:32,628] Trial 93 finished with value: 0.7779216552897174 and parameters: {'n_estimators': 87, 'max_depth': 20, 'min_samples_split': 2, 'min_samples_leaf': 1, 'max_features': 'sqrt'}. Best is trial 74 with value: 0.789043642422008.\n",
      "[I 2025-07-13 20:29:35,665] Trial 94 finished with value: 0.7882344379175282 and parameters: {'n_estimators': 50, 'max_depth': 19, 'min_samples_split': 2, 'min_samples_leaf': 1, 'max_features': 'sqrt'}. Best is trial 74 with value: 0.789043642422008.\n",
      "[I 2025-07-13 20:29:39,559] Trial 95 finished with value: 0.775733280013404 and parameters: {'n_estimators': 92, 'max_depth': 19, 'min_samples_split': 2, 'min_samples_leaf': 1, 'max_features': 'sqrt'}. Best is trial 74 with value: 0.789043642422008.\n",
      "[I 2025-07-13 20:30:14,333] Trial 96 finished with value: 0.7638248199791435 and parameters: {'n_estimators': 473, 'max_depth': 10, 'min_samples_split': 2, 'min_samples_leaf': 1, 'max_features': None}. Best is trial 74 with value: 0.789043642422008.\n",
      "[I 2025-07-13 20:30:17,134] Trial 97 finished with value: 0.7397494851723553 and parameters: {'n_estimators': 50, 'max_depth': 19, 'min_samples_split': 3, 'min_samples_leaf': 1, 'max_features': 'log2'}. Best is trial 74 with value: 0.789043642422008.\n",
      "[I 2025-07-13 20:30:20,839] Trial 98 finished with value: 0.7717779116240788 and parameters: {'n_estimators': 105, 'max_depth': 18, 'min_samples_split': 2, 'min_samples_leaf': 2, 'max_features': 'sqrt'}. Best is trial 74 with value: 0.789043642422008.\n",
      "[I 2025-07-13 20:30:24,340] Trial 99 finished with value: 0.7784108940481398 and parameters: {'n_estimators': 83, 'max_depth': 19, 'min_samples_split': 3, 'min_samples_leaf': 2, 'max_features': 'sqrt'}. Best is trial 74 with value: 0.789043642422008.\n"
     ]
    }
   ],
   "source": [
    "# 最適化\n",
    "study = optuna.create_study(direction='maximize', study_name='regression')\n",
    "study.optimize(objective_rf, n_trials=100)"
   ]
  },
  {
   "cell_type": "code",
   "execution_count": 11,
   "id": "eae83dee",
   "metadata": {},
   "outputs": [
    {
     "name": "stdout",
     "output_type": "stream",
     "text": [
      "best parameters {'n_estimators': 50, 'max_depth': 18, 'min_samples_split': 2, 'min_samples_leaf': 1, 'max_features': 'sqrt'}\n",
      "best value 0.789043642422008\n",
      "best trials FrozenTrial(number=74, state=TrialState.COMPLETE, values=[0.789043642422008], datetime_start=datetime.datetime(2025, 7, 13, 20, 28, 18, 386381), datetime_complete=datetime.datetime(2025, 7, 13, 20, 28, 21, 540072), params={'n_estimators': 50, 'max_depth': 18, 'min_samples_split': 2, 'min_samples_leaf': 1, 'max_features': 'sqrt'}, user_attrs={}, system_attrs={}, intermediate_values={}, distributions={'n_estimators': IntDistribution(high=500, log=False, low=50, step=1), 'max_depth': IntDistribution(high=20, log=False, low=3, step=1), 'min_samples_split': IntDistribution(high=10, log=False, low=2, step=1), 'min_samples_leaf': IntDistribution(high=10, log=False, low=1, step=1), 'max_features': CategoricalDistribution(choices=('sqrt', 'log2', None))}, trial_id=74, value=None)\n"
     ]
    }
   ],
   "source": [
    "# the best parameters\n",
    "print('best parameters', study.best_params)\n",
    "# the best value\n",
    "print('best value', study.best_value)\n",
    "# the best trial\n",
    "print('best trials', study.best_trial)"
   ]
  },
  {
   "cell_type": "code",
   "execution_count": 12,
   "id": "471e9448",
   "metadata": {},
   "outputs": [
    {
     "name": "stdout",
     "output_type": "stream",
     "text": [
      "\n",
      "汎化性能評価開始...\n",
      "Fold 1/5\n",
      "Fold RMSE: 48.1007\n",
      "Fold MAE: 34.0625\n",
      "Fold R2: 0.7497\n",
      "\n",
      "Fold 2/5\n",
      "Fold RMSE: 53.3845\n",
      "Fold MAE: 37.5874\n",
      "Fold R2: 0.7683\n",
      "\n",
      "Fold 3/5\n",
      "Fold RMSE: 50.5441\n",
      "Fold MAE: 36.7669\n",
      "Fold R2: 0.7524\n",
      "\n",
      "Fold 4/5\n",
      "Fold RMSE: 46.7811\n",
      "Fold MAE: 32.5962\n",
      "Fold R2: 0.7241\n",
      "\n",
      "Fold 5/5\n",
      "Fold RMSE: 32.9512\n",
      "Fold MAE: 24.3007\n",
      "Fold R2: 0.8664\n",
      "\n",
      "平均RMSE: 46.3523 ± 7.0690\n",
      "平均MAE: 33.0627 ± 4.7368\n",
      "平均R2: 0.7722 ± 0.0492\n"
     ]
    }
   ],
   "source": [
    "print(\"\\n汎化性能評価開始...\")\n",
    "\n",
    "# 最適化されたパラメータで性能評価\n",
    "model_rf_op = RandomForestRegressor(**study.best_params)\n",
    "\n",
    "# 5分割交差検証\n",
    "kf = KFold(n_splits=5, shuffle=True, random_state=1234)\n",
    "\n",
    "# スコア保存用\n",
    "rmse_scores = []\n",
    "mae_scores = []\n",
    "r2_scores = []\n",
    "\n",
    "for fold, (train_index, val_index) in enumerate(kf.split(X_train_all)):\n",
    "    print(f\"Fold {fold + 1}/5\")\n",
    "    \n",
    "    # 訓練と検証に分類\n",
    "    X_train, X_val = X_train_all.iloc[train_index, :], X_train_all.iloc[val_index, :]\n",
    "    y_train, y_val = y_train_all.iloc[train_index], y_train_all.iloc[val_index]\n",
    "\n",
    "    # 標準化\n",
    "    std = StandardScaler()\n",
    "    autoscaled_X_train = pd.DataFrame(std.fit_transform(X_train), columns=X_train.columns, index=X_train.index)\n",
    "    autoscaled_X_val = pd.DataFrame(std.transform(X_val), columns=X_val.columns, index=X_val.index)\n",
    "\n",
    "    # 学習\n",
    "    model_rf_op.fit(autoscaled_X_train, y_train)\n",
    "    y_pred = model_rf_op.predict(autoscaled_X_val)\n",
    "\n",
    "    # 性能チェック\n",
    "    rmse = np.sqrt(mean_squared_error(y_val, y_pred))\n",
    "    mae = mean_absolute_error(y_val, y_pred)\n",
    "    r2 = r2_score(y_val, y_pred)\n",
    "\n",
    "    rmse_scores.append(rmse)\n",
    "    mae_scores.append(mae)\n",
    "    r2_scores.append(r2)\n",
    "\n",
    "    print(f'Fold RMSE: {rmse:.4f}')\n",
    "    print(f'Fold MAE: {mae:.4f}')\n",
    "    print(f'Fold R2: {r2:.4f}\\n')\n",
    "\n",
    "# 平均結果出力（標準偏差も追加）\n",
    "print(f'平均RMSE: {np.mean(rmse_scores):.4f} ± {np.std(rmse_scores):.4f}')\n",
    "print(f'平均MAE: {np.mean(mae_scores):.4f} ± {np.std(mae_scores):.4f}')\n",
    "print(f'平均R2: {np.mean(r2_scores):.4f} ± {np.std(r2_scores):.4f}')"
   ]
  },
  {
   "cell_type": "markdown",
   "id": "43cb1797",
   "metadata": {},
   "source": [
    "### 新規材料の予測"
   ]
  },
  {
   "cell_type": "code",
   "execution_count": 13,
   "id": "fb577c06",
   "metadata": {},
   "outputs": [
    {
     "name": "stdout",
     "output_type": "stream",
     "text": [
      "予測結果:\n",
      "             pred_PL\n",
      "Material            \n",
      "test1     598.541000\n",
      "test2     656.855000\n",
      "test3     622.806000\n",
      "test4     656.362333\n",
      "test5     609.434167\n"
     ]
    }
   ],
   "source": [
    "# すべての学習データで標準化、テストデータも\n",
    "std_final = StandardScaler()\n",
    "autoscaled_X_train = std_final.fit_transform(X_train_all)\n",
    "autoscaled_X_test = std_final.transform(X_test)\n",
    "\n",
    "# 両方ともDataFrameに戻す\n",
    "autoscaled_X_train = pd.DataFrame(autoscaled_X_train, columns=X_train_all.columns, index=X_train_all.index)\n",
    "autoscaled_X_test = pd.DataFrame(autoscaled_X_test, columns=dataset_test.columns, index=dataset_test.index)\n",
    "\n",
    "# 最終モデルの構築、学習\n",
    "model_rf_final = RandomForestRegressor(**study.best_params)\n",
    "model_rf_final.fit(autoscaled_X_train, y_train_all)\n",
    "\n",
    "# 予測\n",
    "y_test_pred = model_rf_final.predict(autoscaled_X_test)\n",
    "y_test_pred = pd.DataFrame(y_test_pred, columns=['pred_PL'], index=dataset_test.index)\n",
    "\n",
    "print(\"予測結果:\")\n",
    "print(y_test_pred)"
   ]
  },
  {
   "cell_type": "code",
   "execution_count": 14,
   "id": "03ad2df7",
   "metadata": {},
   "outputs": [],
   "source": [
    "# 結果の保存\n",
    "y_test_pred.to_csv('predict_y_RF.csv')\n",
    "\n",
    "# モデルとスケーラーの保存\n",
    "with open('model_rf_final.pkl', 'wb') as file:\n",
    "    pickle.dump(model_rf_final, file)\n",
    "\n",
    "with open('scaler_rf_final.pkl', 'wb') as file:\n",
    "    pickle.dump(std_final, file)"
   ]
  },
  {
   "cell_type": "code",
   "execution_count": 15,
   "id": "e5f5ea5d",
   "metadata": {},
   "outputs": [
    {
     "name": "stderr",
     "output_type": "stream",
     "text": [
      "/tmp/ipykernel_89075/2793381202.py:12: FutureWarning: \n",
      "\n",
      "Passing `palette` without assigning `hue` is deprecated and will be removed in v0.14.0. Assign the `y` variable to `hue` and set `legend=False` for the same effect.\n",
      "\n",
      "  sns.barplot(y=feature_map_rf['feature'][:10],\n"
     ]
    },
    {
     "data": {
      "image/png": "[encoded data removed]",
      "text/plain": [
       "<Figure size 640x480 with 1 Axes>"
      ]
     },
     "metadata": {},
     "output_type": "display_data"
    }
   ],
   "source": [
    "# 特徴量重要度を出す\n",
    "feature_map_rf = pd.DataFrame([X_train.columns, model_rf_final.feature_importances_]).T\n",
    "feature_map_rf.columns = ['feature', 'importances']\n",
    "\n",
    "# 降順に\n",
    "feature_map_rf = feature_map_rf.sort_values('importances', ascending=False)\n",
    "\n",
    "# 規格化\n",
    "feature_map_rf['importances'] = feature_map_rf['importances'] / feature_map_rf['importances'].max()\n",
    "\n",
    "# 可視化\n",
    "sns.barplot(y=feature_map_rf['feature'][:10],\n",
    "            x=feature_map_rf['importances'][:10],\n",
    "            palette='viridis')\n",
    "plt.show()"
   ]
  },
  {
   "cell_type": "code",
   "execution_count": null,
   "id": "6a27f7f0",
   "metadata": {},
   "outputs": [
    {
     "name": "stdout",
     "output_type": "stream",
     "text": [
      "読み込みモデルによる予測結果:\n",
      "  Material  Predicted_PL\n",
      "0    test1    598.541000\n",
      "1    test2    656.855000\n",
      "2    test3    622.806000\n",
      "3    test4    656.362333\n",
      "4    test5    609.434167\n"
     ]
    }
   ],
   "source": [
    "# ===== 保存したモデルを読み込んで予測する関数 =====\n",
    "def load_rf_model_and_predict(model_path, scaler_path, X_test_data):\n",
    "    \"\"\"\n",
    "    保存したRandom Forestモデルとスケーラーを読み込んで予測を行う関数\n",
    "    \n",
    "    Args:\n",
    "        model_path: 保存したモデルファイルのパス\n",
    "        scaler_path: 保存したスケーラーファイルのパス\n",
    "        X_test_data: 予測したいデータ\n",
    "    \n",
    "    Returns:\n",
    "        予測結果のDataFrame\n",
    "    \"\"\"\n",
    "    # モデルとスケーラーの読み込み\n",
    "    with open(model_path, 'rb') as f:\n",
    "        model = pickle.load(f)\n",
    "    \n",
    "    with open(scaler_path, 'rb') as f:\n",
    "        scaler = pickle.load(f)\n",
    "    \n",
    "    # データの標準化\n",
    "    X_test_scaled = scaler.transform(X_test_data)\n",
    "    X_test_scaled = pd.DataFrame(X_test_scaled, columns=X_test_data.columns, index=X_test_data.index)\n",
    "    \n",
    "    # 予測実行\n",
    "    predictions = model.predict(X_test_scaled)\n",
    "    \n",
    "    # 結果をデータフレームに格納\n",
    "    results_df = pd.DataFrame({\n",
    "        'Material': X_test_data.index,\n",
    "        'Predicted_PL': predictions\n",
    "    })\n",
    "    \n",
    "    return results_df\n",
    "\n",
    "# 使用例（コメントアウト）\n",
    "loaded_rf_results = load_rf_model_and_predict('model_rf_final.pkl', 'scaler_rf_final.pkl', X_test)\n",
    "print(\"読み込みモデルによる予測結果:\")\n",
    "print(loaded_rf_results)"
   ]
  },
  {
   "cell_type": "markdown",
   "id": "b3202304",
   "metadata": {},
   "source": [
    "### ADモデル構築"
   ]
  },
  {
   "cell_type": "code",
   "execution_count": 17,
   "id": "2c6b5f65",
   "metadata": {},
   "outputs": [],
   "source": [
    "def gamma_optimization_with_variance(x, gammas):\n",
    "    \"\"\"\n",
    "    DataFrame型もしくはarray型のxにおいて、カーネル関数におけるグラム行列の分散を最大化することにより、yを最適化する関数\n",
    "\n",
    "    Parameters\n",
    "    -----------------------------------\n",
    "    x : pandas.DataFrame or numpy.array\n",
    "    gammas : list\n",
    "\n",
    "    Returns\n",
    "    -------\n",
    "    optimized gamma : scaler\n",
    "\n",
    "    \"\"\"\n",
    "\n",
    "    print('カーネル関数においてグラム行列の分散を最大化することによりγの最適化')\n",
    "\n",
    "    variance_of_gamma_matrix = []\n",
    "\n",
    "    for index, ocsvm_gamma in enumerate(gammas):\n",
    "        print(index + 1, '/', len(gammas))\n",
    "        gram_matrix = np.exp(-ocsvm_gamma * cdist(x, x, metric='sqeuclidean'))\n",
    "        variance_of_gamma_matrix.append(gram_matrix.var(ddof=1))\n",
    "\n",
    "    return gammas[variance_of_gamma_matrix.index(max(variance_of_gamma_matrix))]"
   ]
  },
  {
   "cell_type": "code",
   "execution_count": 18,
   "id": "6a3411dd",
   "metadata": {},
   "outputs": [
    {
     "name": "stdout",
     "output_type": "stream",
     "text": [
      "カーネル関数においてグラム行列の分散を最大化することによりγの最適化\n",
      "1 / 31\n",
      "2 / 31\n",
      "3 / 31\n",
      "4 / 31\n",
      "5 / 31\n",
      "6 / 31\n",
      "7 / 31\n",
      "8 / 31\n",
      "9 / 31\n",
      "10 / 31\n",
      "11 / 31\n",
      "12 / 31\n",
      "13 / 31\n",
      "14 / 31\n",
      "15 / 31\n",
      "16 / 31\n",
      "17 / 31\n",
      "18 / 31\n",
      "19 / 31\n",
      "20 / 31\n",
      "21 / 31\n",
      "22 / 31\n",
      "23 / 31\n",
      "24 / 31\n",
      "25 / 31\n",
      "26 / 31\n",
      "27 / 31\n",
      "28 / 31\n",
      "29 / 31\n",
      "30 / 31\n",
      "31 / 31\n",
      "最適化されたgamma(OCSVM) : 0.00048828125\n"
     ]
    }
   ],
   "source": [
    "# OCSVMによるAD\n",
    "# OCSVMにおけるnu, nu=0.317(σ), nu=0.045(2σ), nu=0.003(3σ)と選択でき、nuの値が大きくなるとADは狭まるが誤差は小さくなり、\n",
    "# nuが小さくなるとADは広がるが、誤差は大きくなる\n",
    "# nu=0.317ならば、約68%のデータが含まれる範囲（±1σ相当）を定義するイメージ\n",
    "ocsvm_nu = 0.317\n",
    "\n",
    "# γの候補\n",
    "ocsvm_gammas = 2 ** np.arange(-20, 11, dtype=float)\n",
    "\n",
    "# グラム行列の分散を最大化することによるγの候補、最も情報量の多いγを選ぶことができる\n",
    "optimal_ocsvm_gamma = gamma_optimization_with_variance(autoscaled_X_train, ocsvm_gammas)\n",
    "\n",
    "print('最適化されたgamma(OCSVM) :', optimal_ocsvm_gamma)"
   ]
  },
  {
   "cell_type": "code",
   "execution_count": 19,
   "id": "8c9a2bba",
   "metadata": {},
   "outputs": [
    {
     "data": {
      "text/html": [
       "<div>\n",
       "<style scoped>\n",
       "    .dataframe tbody tr th:only-of-type {\n",
       "        vertical-align: middle;\n",
       "    }\n",
       "\n",
       "    .dataframe tbody tr th {\n",
       "        vertical-align: top;\n",
       "    }\n",
       "\n",
       "    .dataframe thead th {\n",
       "        text-align: right;\n",
       "    }\n",
       "</style>\n",
       "<table border=\"1\" class=\"dataframe\">\n",
       "  <thead>\n",
       "    <tr style=\"text-align: right;\">\n",
       "      <th></th>\n",
       "      <th>pred_PL</th>\n",
       "    </tr>\n",
       "    <tr>\n",
       "      <th>Material</th>\n",
       "      <th></th>\n",
       "    </tr>\n",
       "  </thead>\n",
       "  <tbody>\n",
       "    <tr>\n",
       "      <th>test2</th>\n",
       "      <td>656.855000</td>\n",
       "    </tr>\n",
       "    <tr>\n",
       "      <th>test3</th>\n",
       "      <td>622.806000</td>\n",
       "    </tr>\n",
       "    <tr>\n",
       "      <th>test4</th>\n",
       "      <td>656.362333</td>\n",
       "    </tr>\n",
       "    <tr>\n",
       "      <th>test5</th>\n",
       "      <td>609.434167</td>\n",
       "    </tr>\n",
       "  </tbody>\n",
       "</table>\n",
       "</div>"
      ],
      "text/plain": [
       "             pred_PL\n",
       "Material            \n",
       "test2     656.855000\n",
       "test3     622.806000\n",
       "test4     656.362333\n",
       "test5     609.434167"
      ]
     },
     "execution_count": 19,
     "metadata": {},
     "output_type": "execute_result"
    }
   ],
   "source": [
    "# ADモデル構築\n",
    "ad_model = OneClassSVM(kernel='rbf', gamma=optimal_ocsvm_gamma, nu=ocsvm_nu)\n",
    "\n",
    "ad_model.fit(autoscaled_X_train)\n",
    "\n",
    "# 予測データに対してADの内外を判定、学習データの分布（＝高密度領域）を学習する\n",
    "# データ密度の値\n",
    "data_density_test = ad_model.decision_function(autoscaled_X_test)\n",
    "# データ密度が正の値の条件のみ抽出\n",
    "y_test_pos = y_test_pred.iloc[data_density_test >= 0, :].copy()\n",
    "\n",
    "y_test_pos"
   ]
  },
  {
   "cell_type": "code",
   "execution_count": 20,
   "id": "4c20fa3a",
   "metadata": {},
   "outputs": [
    {
     "data": {
      "text/plain": [
       "array([-18.08341558,   3.23502568,   3.48758194,   2.04535175,\n",
       "         1.75133854])"
      ]
     },
     "execution_count": 20,
     "metadata": {},
     "output_type": "execute_result"
    }
   ],
   "source": [
    "data_density_test"
   ]
  },
  {
   "cell_type": "code",
   "execution_count": 21,
   "id": "510f65fc",
   "metadata": {},
   "outputs": [
    {
     "data": {
      "image/png": "[encoded data removed]",
      "text/plain": [
       "<Figure size 800x600 with 1 Axes>"
      ]
     },
     "metadata": {},
     "output_type": "display_data"
    }
   ],
   "source": [
    "# 可視化、高次元の特徴空間は可視化できないので、PCAなどで2次元に圧縮してプロット\n",
    "\n",
    "# PCAで2次元に圧縮（学習データでfit）\n",
    "pca = PCA(n_components=2)\n",
    "X_train_pca = pca.fit_transform(autoscaled_X_train)\n",
    "X_test_pca = pca.transform(autoscaled_X_test)\n",
    "\n",
    "# ADの内外を判定\n",
    "ad_pred_train = ad_model.predict(autoscaled_X_train)  # +1=AD内, -1=AD外\n",
    "ad_pred_test = ad_model.predict(autoscaled_X_test)\n",
    "\n",
    "# プロット\n",
    "plt.figure(figsize=(8, 6))\n",
    "plt.scatter(X_train_pca[ad_pred_train==1, 0], X_train_pca[ad_pred_train==1, 1], \n",
    "            label='Train (in AD)', color='blue', alpha=0.5)\n",
    "plt.scatter(X_test_pca[ad_pred_test==1, 0], X_test_pca[ad_pred_test==1, 1], \n",
    "            label='Test (in AD)', color='green', alpha=0.6)\n",
    "plt.scatter(X_test_pca[ad_pred_test==-1, 0], X_test_pca[ad_pred_test==-1, 1], \n",
    "            label='Test (out of AD)', color='red', alpha=0.6)\n",
    "plt.xlabel('PC1')\n",
    "plt.ylabel('PC2')\n",
    "plt.legend()\n",
    "plt.title('Applicability Domain Visualization (PCA)')\n",
    "plt.tight_layout()\n",
    "plt.show()\n"
   ]
  },
  {
   "cell_type": "code",
   "execution_count": 23,
   "id": "87110c78",
   "metadata": {},
   "outputs": [
    {
     "data": {
      "image/png": "[encoded data removed]",
      "text/plain": [
       "<Figure size 800x600 with 1 Axes>"
      ]
     },
     "metadata": {},
     "output_type": "display_data"
    }
   ],
   "source": [
    "# 可視化の修正案\n",
    "\n",
    "# AD内のデータのみを抽出\n",
    "X_train_in_ad_pca = X_train_pca[ad_pred_train==1]\n",
    "X_test_in_ad_pca = X_test_pca[ad_pred_test==1]\n",
    "\n",
    "plt.figure(figsize=(8, 6))\n",
    "plt.scatter(X_train_in_ad_pca[:, 0], X_train_in_ad_pca[:, 1],\n",
    "            label='Train (in AD)', color='blue', alpha=0.5)\n",
    "plt.scatter(X_test_in_ad_pca[:, 0], X_test_in_ad_pca[:, 1],\n",
    "            label='Test (in AD)', color='green', alpha=0.6)\n",
    "\n",
    "# 必要であれば、AD外のデータもプロットするが、ここではコメントアウト\n",
    "# plt.scatter(X_test_pca[ad_pred_test==-1, 0], X_test_pca[ad_pred_test==-1, 1],\n",
    "#             label='Test (out of AD)', color='red', alpha=0.6)\n",
    "\n",
    "plt.xlabel('PC1')\n",
    "plt.ylabel('PC2')\n",
    "plt.legend()\n",
    "plt.title('Applicability Domain Visualization (In-Domain Only)')\n",
    "plt.tight_layout()\n",
    "plt.show()"
   ]
  },
  {
   "cell_type": "code",
   "execution_count": null,
   "id": "041e98f1",
   "metadata": {},
   "outputs": [],
   "source": []
  }
 ],
 "metadata": {
  "kernelspec": {
   "display_name": "mol-regression-env",
   "language": "python",
   "name": "python3"
  },
  "language_info": {
   "codemirror_mode": {
    "name": "ipython",
    "version": 3
   },
   "file_extension": ".py",
   "mimetype": "text/x-python",
   "name": "python",
   "nbconvert_exporter": "python",
   "pygments_lexer": "ipython3",
   "version": "3.9.23"
  }
 },
 "nbformat": 4,
 "nbformat_minor": 5
}
